{
  "nbformat": 4,
  "nbformat_minor": 0,
  "metadata": {
    "colab": {
      "name": "Stock Price Prediction (Regression) v2.0.ipynb",
      "provenance": [],
      "collapsed_sections": []
    },
    "kernelspec": {
      "name": "python3",
      "display_name": "Python 3"
    },
    "language_info": {
      "name": "python"
    }
  },
  "cells": [
    {
      "cell_type": "code",
      "metadata": {
        "id": "G4KfcCICxSx9"
      },
      "source": [
        "#import packages\n",
        "import pandas as pd\n",
        "import numpy as np\n",
        "import math\n",
        "import pandas_datareader as web\n",
        "import numpy as np\n",
        "import pandas as pd\n",
        "from sklearn.preprocessing import MinMaxScaler\n",
        "from keras.models import Sequential\n",
        "from keras.layers import Dense, LSTM\n",
        "import matplotlib.pyplot as plt\n",
        "\n",
        "#to plot within notebook\n",
        "import matplotlib.pyplot as plt\n",
        "%matplotlib inline\n",
        "\n",
        "#setting figure size\n",
        "from matplotlib.pylab import rcParams\n",
        "rcParams['figure.figsize'] = 20,10\n",
        "\n",
        "#for normalizing data\n",
        "from sklearn.preprocessing import MinMaxScaler\n",
        "scaler = MinMaxScaler(feature_range=(0, 1))\n",
        "\n"
      ],
      "execution_count": 16,
      "outputs": []
    },
    {
      "cell_type": "code",
      "metadata": {
        "colab": {
          "base_uri": "https://localhost:8080/"
        },
        "id": "huovqVsM4BVc",
        "outputId": "76aea763-7fba-4a79-8c9e-527e0b313c19"
      },
      "source": [
        "!pip install yfinance\n",
        "import yfinance as yf"
      ],
      "execution_count": 17,
      "outputs": [
        {
          "output_type": "stream",
          "text": [
            "Requirement already satisfied: yfinance in /usr/local/lib/python3.7/dist-packages (0.1.63)\n",
            "Requirement already satisfied: numpy>=1.15 in /usr/local/lib/python3.7/dist-packages (from yfinance) (1.19.5)\n",
            "Requirement already satisfied: requests>=2.20 in /usr/local/lib/python3.7/dist-packages (from yfinance) (2.23.0)\n",
            "Requirement already satisfied: pandas>=0.24 in /usr/local/lib/python3.7/dist-packages (from yfinance) (1.1.5)\n",
            "Requirement already satisfied: lxml>=4.5.1 in /usr/local/lib/python3.7/dist-packages (from yfinance) (4.6.3)\n",
            "Requirement already satisfied: multitasking>=0.0.7 in /usr/local/lib/python3.7/dist-packages (from yfinance) (0.0.9)\n",
            "Requirement already satisfied: certifi>=2017.4.17 in /usr/local/lib/python3.7/dist-packages (from requests>=2.20->yfinance) (2021.5.30)\n",
            "Requirement already satisfied: urllib3!=1.25.0,!=1.25.1,<1.26,>=1.21.1 in /usr/local/lib/python3.7/dist-packages (from requests>=2.20->yfinance) (1.24.3)\n",
            "Requirement already satisfied: idna<3,>=2.5 in /usr/local/lib/python3.7/dist-packages (from requests>=2.20->yfinance) (2.10)\n",
            "Requirement already satisfied: chardet<4,>=3.0.2 in /usr/local/lib/python3.7/dist-packages (from requests>=2.20->yfinance) (3.0.4)\n",
            "Requirement already satisfied: pytz>=2017.2 in /usr/local/lib/python3.7/dist-packages (from pandas>=0.24->yfinance) (2018.9)\n",
            "Requirement already satisfied: python-dateutil>=2.7.3 in /usr/local/lib/python3.7/dist-packages (from pandas>=0.24->yfinance) (2.8.1)\n",
            "Requirement already satisfied: six>=1.5 in /usr/local/lib/python3.7/dist-packages (from python-dateutil>=2.7.3->pandas>=0.24->yfinance) (1.15.0)\n"
          ],
          "name": "stdout"
        }
      ]
    },
    {
      "cell_type": "code",
      "metadata": {
        "colab": {
          "base_uri": "https://localhost:8080/"
        },
        "id": "0x5o6xDB4UNy",
        "outputId": "69e7660e-0fc3-4254-edbd-3756b1d24660"
      },
      "source": [
        "#read the file\n",
        "from datetime import datetime\n",
        "import pandas_datareader.data as web\n",
        "start_train = datetime(2016, 12, 31)\n",
        "end_train = datetime.today()\n",
        "data_train = yf.download(\"AMZN\", start=start_train, end=end_train)\n",
        "\n"
      ],
      "execution_count": 18,
      "outputs": [
        {
          "output_type": "stream",
          "text": [
            "\r[*********************100%***********************]  1 of 1 completed\n"
          ],
          "name": "stdout"
        }
      ]
    },
    {
      "cell_type": "code",
      "metadata": {
        "id": "YQkzO5JE4m7-"
      },
      "source": [
        "df = pd.DataFrame(data_train)"
      ],
      "execution_count": 19,
      "outputs": []
    },
    {
      "cell_type": "code",
      "metadata": {
        "colab": {
          "base_uri": "https://localhost:8080/",
          "height": 654
        },
        "id": "lTtfjDVl3_gj",
        "outputId": "4e9f3c65-c0bf-483d-c62b-c551775f6b25"
      },
      "source": [
        "!pip install mpl-finance\n",
        "# visualization candle stick\n",
        "import matplotlib.pyplot as plt\n",
        "from matplotlib import style\n",
        "from mpl_finance import candlestick_ohlc\n",
        "import matplotlib.dates as mdates\n",
        "import pandas as pd\n",
        "\n",
        "\n",
        "\n",
        "df_ohlc= df['Close'].resample('20D').ohlc()\n",
        "df_volume=df['Volume'].resample('20D').sum()\n",
        "df_ohlc.reset_index(inplace=True)\n",
        "df_ohlc['Date']=df_ohlc['Date'].map(mdates.date2num)\n",
        "ax1=plt.subplot2grid((6,1), (0,0), rowspan=5, colspan=1)\n",
        "ax2=plt.subplot2grid((6,1), (5,0), rowspan=1, colspan=1 , sharex=ax1)\n",
        "ax1.xaxis_date()\n",
        "candlestick_ohlc(ax1,df_ohlc.values, width=2, colorup='g')\n",
        "ax2.fill_between(df_volume.index.map(mdates.date2num),df_volume.values,0)\n",
        "plt.show()\n",
        "\n"
      ],
      "execution_count": 20,
      "outputs": [
        {
          "output_type": "stream",
          "text": [
            "Requirement already satisfied: mpl-finance in /usr/local/lib/python3.7/dist-packages (0.10.1)\n",
            "Requirement already satisfied: matplotlib in /usr/local/lib/python3.7/dist-packages (from mpl-finance) (3.2.2)\n",
            "Requirement already satisfied: kiwisolver>=1.0.1 in /usr/local/lib/python3.7/dist-packages (from matplotlib->mpl-finance) (1.3.1)\n",
            "Requirement already satisfied: cycler>=0.10 in /usr/local/lib/python3.7/dist-packages (from matplotlib->mpl-finance) (0.10.0)\n",
            "Requirement already satisfied: numpy>=1.11 in /usr/local/lib/python3.7/dist-packages (from matplotlib->mpl-finance) (1.19.5)\n",
            "Requirement already satisfied: python-dateutil>=2.1 in /usr/local/lib/python3.7/dist-packages (from matplotlib->mpl-finance) (2.8.1)\n",
            "Requirement already satisfied: pyparsing!=2.0.4,!=2.1.2,!=2.1.6,>=2.0.1 in /usr/local/lib/python3.7/dist-packages (from matplotlib->mpl-finance) (2.4.7)\n",
            "Requirement already satisfied: six in /usr/local/lib/python3.7/dist-packages (from cycler>=0.10->matplotlib->mpl-finance) (1.15.0)\n"
          ],
          "name": "stdout"
        },
        {
          "output_type": "display_data",
          "data": {
            "image/png": "[encoded data removed]",
            "text/plain": [
              "<Figure size 1440x720 with 2 Axes>"
            ]
          },
          "metadata": {
            "tags": [],
            "needs_background": "light"
          }
        }
      ]
    },
    {
      "cell_type": "code",
      "metadata": {
        "colab": {
          "base_uri": "https://localhost:8080/",
          "height": 500
        },
        "id": "EAgPqYRD-yji",
        "outputId": "a10c13d3-2316-40a8-887a-e15a702edb3e"
      },
      "source": [
        "#plot\n",
        "plt.figure(figsize=(16,8))\n",
        "plt.plot(df['Close'], label='Close Price history')"
      ],
      "execution_count": 21,
      "outputs": [
        {
          "output_type": "execute_result",
          "data": {
            "text/plain": [
              "[<matplotlib.lines.Line2D at 0x7fd62674f590>]"
            ]
          },
          "metadata": {
            "tags": []
          },
          "execution_count": 21
        },
        {
          "output_type": "display_data",
          "data": {
            "image/png": "[encoded data removed]",
            "text/plain": [
              "<Figure size 1152x576 with 1 Axes>"
            ]
          },
          "metadata": {
            "tags": [],
            "needs_background": "light"
          }
        }
      ]
    },
    {
      "cell_type": "code",
      "metadata": {
        "id": "zt-2ZJWaBdH-",
        "colab": {
          "base_uri": "https://localhost:8080/"
        },
        "outputId": "606b1fe9-01b5-420a-da18-62b1a42e52e0"
      },
      "source": [
        "# data filtering until specified length of data\n",
        "\n",
        "# filter the data just based on close price\n",
        "data = df.filter(['Close'])\n",
        "# converting the data into numpy array\n",
        "dataset = data.values \n",
        "# just only 80% of the data set for the trainig, the rest 20% could be used for prediction (validation)\n",
        "training_data_len = math.ceil( len(dataset) * .8) \n",
        "\n",
        "training_data_len\n"
      ],
      "execution_count": 22,
      "outputs": [
        {
          "output_type": "execute_result",
          "data": {
            "text/plain": [
              "912"
            ]
          },
          "metadata": {
            "tags": []
          },
          "execution_count": 22
        }
      ]
    },
    {
      "cell_type": "code",
      "metadata": {
        "colab": {
          "base_uri": "https://localhost:8080/"
        },
        "id": "LdVjhAE9HNGQ",
        "outputId": "12d58e20-4600-47a1-9a10-f6571509625e"
      },
      "source": [
        "percentage = 20\n",
        "d = int(np.ceil(training_data_len*(percentage/100)))\n",
        "d"
      ],
      "execution_count": 23,
      "outputs": [
        {
          "output_type": "execute_result",
          "data": {
            "text/plain": [
              "183"
            ]
          },
          "metadata": {
            "tags": []
          },
          "execution_count": 23
        }
      ]
    },
    {
      "cell_type": "code",
      "metadata": {
        "colab": {
          "base_uri": "https://localhost:8080/"
        },
        "id": "j9FXmJ834lnk",
        "outputId": "827b7c86-a1e8-4b28-fedd-266a651350da"
      },
      "source": [
        "# scale the data for preprocessing the data before fed to learning algorithm\n",
        "scaler = MinMaxScaler(feature_range=(0,1))\n",
        "\n",
        "scaled_data = scaler.fit_transform(dataset)\n",
        "scaled_data\n",
        "#Scaled_data_len = scaler.fit_transform(training_data_len)"
      ],
      "execution_count": 24,
      "outputs": [
        {
          "output_type": "execute_result",
          "data": {
            "text/plain": [
              "array([[0.        ],\n",
              "       [0.00117875],\n",
              "       [0.00899341],\n",
              "       ...,\n",
              "       [0.99594665],\n",
              "       [0.99568133],\n",
              "       [0.98184872]])"
            ]
          },
          "metadata": {
            "tags": []
          },
          "execution_count": 24
        }
      ]
    },
    {
      "cell_type": "code",
      "metadata": {
        "colab": {
          "base_uri": "https://localhost:8080/"
        },
        "id": "6RWBqLibCRqI",
        "outputId": "37f34872-2084-430b-d3c3-30fb5951534a"
      },
      "source": [
        "\n",
        "# create data set for training \n",
        "\n",
        "training_data_set = scaled_data [0:training_data_len, :]\n",
        "\n",
        "# split the data from x_train_dataset and y_train_dataset \n",
        "\n",
        "x_train_dataset = []\n",
        "y_train_dataset = []\n",
        "\n",
        "for i in range(d, training_data_len):\n",
        "  x_train_dataset.append(training_data_set[i-d:i,0])\n",
        "  y_train_dataset.append(training_data_set[i,0])\n",
        "  if i <= d:\n",
        "    print(x_train_dataset)\n",
        "    print(y_train_dataset)"
      ],
      "execution_count": 25,
      "outputs": [
        {
          "output_type": "stream",
          "text": [
            "[array([0.        , 0.00117875, 0.00899341, 0.01421212, 0.01452444,\n",
            "       0.01418191, 0.01522968, 0.02013945, 0.02131483, 0.018823  ,\n",
            "       0.01807075, 0.01859464, 0.01835621, 0.02156334, 0.0230947 ,\n",
            "       0.02782313, 0.02870635, 0.02757126, 0.02576116, 0.02344395,\n",
            "       0.02642272, 0.028975  , 0.01898421, 0.01812449, 0.0197566 ,\n",
            "       0.02217791, 0.02273201, 0.02478055, 0.02782649, 0.02777947,\n",
            "       0.02989852, 0.03038211, 0.03069443, 0.03451276, 0.03423402,\n",
            "       0.0330855 , 0.03075151, 0.03189333, 0.03068434, 0.03338439,\n",
            "       0.03198399, 0.03230975, 0.03121159, 0.03101347, 0.03251796,\n",
            "       0.03335752, 0.03317618, 0.03389149, 0.03319969, 0.03334743,\n",
            "       0.03349856, 0.0331258 , 0.03469074, 0.03006644, 0.03169854,\n",
            "       0.03147018, 0.03087577, 0.03128212, 0.03436499, 0.04051731,\n",
            "       0.04119569, 0.04462109, 0.04629015, 0.05143499, 0.05225777,\n",
            "       0.04856369, 0.04742188, 0.0515055 , 0.04993384, 0.04787523,\n",
            "       0.0439931 , 0.04980959, 0.05041073, 0.04887265, 0.0498331 ,\n",
            "       0.04864765, 0.05162976, 0.05170029, 0.05226111, 0.05531377,\n",
            "       0.05753357, 0.06533814, 0.06490494, 0.06292022, 0.06174483,\n",
            "       0.06060974, 0.06561016, 0.06687959, 0.06557995, 0.06513329,\n",
            "       0.06974417, 0.06860908, 0.07132927, 0.06417284, 0.06878371,\n",
            "       0.06923709, 0.07287406, 0.07316623, 0.07612485, 0.08050066,\n",
            "       0.08130665, 0.0816156 , 0.08091708, 0.08136373, 0.08498392,\n",
            "       0.08653208, 0.08373129, 0.08610558, 0.08617275, 0.07543977,\n",
            "       0.0709397 , 0.07627261, 0.07482184, 0.0706912 , 0.07859653,\n",
            "       0.08110178, 0.08023536, 0.0834727 , 0.08316039, 0.0839798 ,\n",
            "       0.08070214, 0.07492597, 0.07947639, 0.0746405 , 0.07197741,\n",
            "       0.06716167, 0.07311923, 0.07101696, 0.0755909 , 0.08153835,\n",
            "       0.08075253, 0.08491004, 0.08293539, 0.08333166, 0.0860955 ,\n",
            "       0.09093473, 0.09174744, 0.09236198, 0.09134447, 0.09580419,\n",
            "       0.09611317, 0.1004554 , 0.09817178, 0.08945375, 0.07862004,\n",
            "       0.08144433, 0.08134358, 0.07833122, 0.07855288, 0.0801279 ,\n",
            "       0.07931184, 0.07668233, 0.06825646, 0.07197405, 0.07711553,\n",
            "       0.07692747, 0.07539611, 0.06948223, 0.06877699, 0.06703742,\n",
            "       0.07160801, 0.06861916, 0.06675534, 0.06434075, 0.06459598,\n",
            "       0.06729601, 0.07183973, 0.0762088 , 0.07541962, 0.07106062,\n",
            "       0.07191024, 0.07582932, 0.07127219, 0.07532224, 0.07687375,\n",
            "       0.08258948, 0.08010775, 0.07828756, 0.07405617, 0.07260204,\n",
            "       0.07372707, 0.07085241, 0.06764526])]\n",
            "[0.06250377787936617]\n"
          ],
          "name": "stdout"
        }
      ]
    },
    {
      "cell_type": "code",
      "metadata": {
        "colab": {
          "base_uri": "https://localhost:8080/"
        },
        "id": "3SewXtWNHamK",
        "outputId": "19340aea-8197-4929-a5cb-36b2a555c09d"
      },
      "source": [
        "#to convert to numpy array\n",
        "x_train, y_train = np.array(x_train_dataset), np.array(y_train_dataset)\n",
        "\n",
        "#reshaping the data\n",
        "\n",
        "x_train = np.reshape(x_train, (x_train.shape[0], x_train.shape[1], 1)) # 1 here is the scaled closing price the \n",
        "x_train.shape"
      ],
      "execution_count": 26,
      "outputs": [
        {
          "output_type": "execute_result",
          "data": {
            "text/plain": [
              "(729, 183, 1)"
            ]
          },
          "metadata": {
            "tags": []
          },
          "execution_count": 26
        }
      ]
    },
    {
      "cell_type": "code",
      "metadata": {
        "id": "EciTBpmQG7JM"
      },
      "source": [
        "from tensorflow.keras.callbacks import ModelCheckpoint\n",
        "from tensorflow.keras.models import Sequential\n",
        "from tensorflow.keras.layers import Dense, Activation, Flatten\n",
        "from sklearn.model_selection import train_test_split\n",
        "from sklearn.ensemble import RandomForestRegressor\n",
        "from sklearn.metrics import mean_absolute_error \n",
        "from sklearn.metrics import accuracy_score\n",
        "import tensorflow as tf\n",
        "from tensorflow.keras.wrappers.scikit_learn import KerasRegressor\n"
      ],
      "execution_count": 31,
      "outputs": []
    },
    {
      "cell_type": "code",
      "metadata": {
        "colab": {
          "base_uri": "https://localhost:8080/"
        },
        "id": "Hr0JbM3hM7tz",
        "outputId": "9aaa178e-34a0-4dc0-da27-21b821cad235"
      },
      "source": [
        "# the model\n",
        "model=Sequential()\n",
        "model.add(LSTM(50, return_sequences=True, input_shape = (x_train.shape[1],1)))  \n",
        "\n",
        "#return_sequences should be True because it has another LSTM layer for it, and the input_shape should be defined for the Input layer, first layer\n",
        "#in input shape 1 there was the number of feature, i.e., the closing price\n",
        "\n",
        "# add more LSTM model\n",
        "model.add (LSTM(50, return_sequences=False))\n",
        "model.add (Dense(15))\n",
        "model.add (Dense(1))\n",
        "model.compile(optimizer = 'adam', loss= 'mean_squared_error')\n",
        "\n",
        "callback=tf.keras.callbacks.ModelCheckpoint(filepath=checkpoint_path,\n",
        "                                           monitor='mean_absolute_error',\n",
        "                                           verbose=0,\n",
        "                                           save_best_only=True,\n",
        "                                           save_weights_only=False,\n",
        "                                           mode='auto')\n",
        "\n",
        "model.fit (x_train,y_train, batch_size=32, epochs=200,callbacks=[callback])"
      ],
      "execution_count": 35,
      "outputs": [
        {
          "output_type": "stream",
          "text": [
            "Epoch 1/200\n",
            "23/23 [==============================] - 36s 168ms/step - loss: 0.0147\n",
            "WARNING:tensorflow:Can save best model only with mean_absolute_error available, skipping.\n",
            "Epoch 2/200\n",
            "23/23 [==============================] - 4s 166ms/step - loss: 0.0023\n",
            "WARNING:tensorflow:Can save best model only with mean_absolute_error available, skipping.\n",
            "Epoch 3/200\n",
            "23/23 [==============================] - 4s 169ms/step - loss: 8.6545e-04\n",
            "WARNING:tensorflow:Can save best model only with mean_absolute_error available, skipping.\n",
            "Epoch 4/200\n",
            "23/23 [==============================] - 4s 173ms/step - loss: 7.2526e-04\n",
            "WARNING:tensorflow:Can save best model only with mean_absolute_error available, skipping.\n",
            "Epoch 5/200\n",
            "23/23 [==============================] - 4s 170ms/step - loss: 6.8479e-04\n",
            "WARNING:tensorflow:Can save best model only with mean_absolute_error available, skipping.\n",
            "Epoch 6/200\n",
            "23/23 [==============================] - 4s 169ms/step - loss: 7.1957e-04\n",
            "WARNING:tensorflow:Can save best model only with mean_absolute_error available, skipping.\n",
            "Epoch 7/200\n",
            "23/23 [==============================] - 4s 170ms/step - loss: 6.9152e-04\n",
            "WARNING:tensorflow:Can save best model only with mean_absolute_error available, skipping.\n",
            "Epoch 8/200\n",
            "23/23 [==============================] - 4s 171ms/step - loss: 6.6567e-04\n",
            "WARNING:tensorflow:Can save best model only with mean_absolute_error available, skipping.\n",
            "Epoch 9/200\n",
            "23/23 [==============================] - 4s 168ms/step - loss: 6.2868e-04\n",
            "WARNING:tensorflow:Can save best model only with mean_absolute_error available, skipping.\n",
            "Epoch 10/200\n",
            "23/23 [==============================] - 4s 170ms/step - loss: 6.3035e-04\n",
            "WARNING:tensorflow:Can save best model only with mean_absolute_error available, skipping.\n",
            "Epoch 11/200\n",
            "23/23 [==============================] - 4s 171ms/step - loss: 6.2517e-04\n",
            "WARNING:tensorflow:Can save best model only with mean_absolute_error available, skipping.\n",
            "Epoch 12/200\n",
            "23/23 [==============================] - 4s 172ms/step - loss: 6.3523e-04\n",
            "WARNING:tensorflow:Can save best model only with mean_absolute_error available, skipping.\n",
            "Epoch 13/200\n",
            "23/23 [==============================] - 4s 172ms/step - loss: 5.8527e-04\n",
            "WARNING:tensorflow:Can save best model only with mean_absolute_error available, skipping.\n",
            "Epoch 14/200\n",
            "23/23 [==============================] - 4s 168ms/step - loss: 5.9415e-04\n",
            "WARNING:tensorflow:Can save best model only with mean_absolute_error available, skipping.\n",
            "Epoch 15/200\n",
            "23/23 [==============================] - 4s 170ms/step - loss: 5.7167e-04\n",
            "WARNING:tensorflow:Can save best model only with mean_absolute_error available, skipping.\n",
            "Epoch 16/200\n",
            "23/23 [==============================] - 4s 169ms/step - loss: 5.6744e-04\n",
            "WARNING:tensorflow:Can save best model only with mean_absolute_error available, skipping.\n",
            "Epoch 17/200\n",
            "23/23 [==============================] - 4s 168ms/step - loss: 5.7766e-04\n",
            "WARNING:tensorflow:Can save best model only with mean_absolute_error available, skipping.\n",
            "Epoch 18/200\n",
            "23/23 [==============================] - 4s 169ms/step - loss: 6.0276e-04\n",
            "WARNING:tensorflow:Can save best model only with mean_absolute_error available, skipping.\n",
            "Epoch 19/200\n",
            "23/23 [==============================] - 4s 170ms/step - loss: 5.8409e-04\n",
            "WARNING:tensorflow:Can save best model only with mean_absolute_error available, skipping.\n",
            "Epoch 20/200\n",
            "23/23 [==============================] - 4s 170ms/step - loss: 5.3960e-04\n",
            "WARNING:tensorflow:Can save best model only with mean_absolute_error available, skipping.\n",
            "Epoch 21/200\n",
            "23/23 [==============================] - 4s 168ms/step - loss: 5.2146e-04\n",
            "WARNING:tensorflow:Can save best model only with mean_absolute_error available, skipping.\n",
            "Epoch 22/200\n",
            "23/23 [==============================] - 4s 169ms/step - loss: 5.2008e-04\n",
            "WARNING:tensorflow:Can save best model only with mean_absolute_error available, skipping.\n",
            "Epoch 23/200\n",
            "23/23 [==============================] - 4s 170ms/step - loss: 5.2067e-04\n",
            "WARNING:tensorflow:Can save best model only with mean_absolute_error available, skipping.\n",
            "Epoch 24/200\n",
            "23/23 [==============================] - 4s 172ms/step - loss: 5.7229e-04\n",
            "WARNING:tensorflow:Can save best model only with mean_absolute_error available, skipping.\n",
            "Epoch 25/200\n",
            "23/23 [==============================] - 4s 170ms/step - loss: 5.5842e-04\n",
            "WARNING:tensorflow:Can save best model only with mean_absolute_error available, skipping.\n",
            "Epoch 26/200\n",
            "23/23 [==============================] - 4s 171ms/step - loss: 4.6837e-04\n",
            "WARNING:tensorflow:Can save best model only with mean_absolute_error available, skipping.\n",
            "Epoch 27/200\n",
            "23/23 [==============================] - 4s 173ms/step - loss: 4.7164e-04\n",
            "WARNING:tensorflow:Can save best model only with mean_absolute_error available, skipping.\n",
            "Epoch 28/200\n",
            "23/23 [==============================] - 4s 169ms/step - loss: 4.6772e-04\n",
            "WARNING:tensorflow:Can save best model only with mean_absolute_error available, skipping.\n",
            "Epoch 29/200\n",
            "23/23 [==============================] - 4s 168ms/step - loss: 4.5730e-04\n",
            "WARNING:tensorflow:Can save best model only with mean_absolute_error available, skipping.\n",
            "Epoch 30/200\n",
            "23/23 [==============================] - 4s 169ms/step - loss: 4.9830e-04\n",
            "WARNING:tensorflow:Can save best model only with mean_absolute_error available, skipping.\n",
            "Epoch 31/200\n",
            "23/23 [==============================] - 4s 169ms/step - loss: 4.3988e-04\n",
            "WARNING:tensorflow:Can save best model only with mean_absolute_error available, skipping.\n",
            "Epoch 32/200\n",
            "23/23 [==============================] - 4s 173ms/step - loss: 4.3384e-04\n",
            "WARNING:tensorflow:Can save best model only with mean_absolute_error available, skipping.\n",
            "Epoch 33/200\n",
            "23/23 [==============================] - 4s 171ms/step - loss: 5.1912e-04\n",
            "WARNING:tensorflow:Can save best model only with mean_absolute_error available, skipping.\n",
            "Epoch 34/200\n",
            "23/23 [==============================] - 4s 169ms/step - loss: 5.3614e-04\n",
            "WARNING:tensorflow:Can save best model only with mean_absolute_error available, skipping.\n",
            "Epoch 35/200\n",
            "23/23 [==============================] - 4s 171ms/step - loss: 5.7274e-04\n",
            "WARNING:tensorflow:Can save best model only with mean_absolute_error available, skipping.\n",
            "Epoch 36/200\n",
            "23/23 [==============================] - 4s 171ms/step - loss: 5.4594e-04\n",
            "WARNING:tensorflow:Can save best model only with mean_absolute_error available, skipping.\n",
            "Epoch 37/200\n",
            "23/23 [==============================] - 4s 172ms/step - loss: 4.9915e-04\n",
            "WARNING:tensorflow:Can save best model only with mean_absolute_error available, skipping.\n",
            "Epoch 38/200\n",
            "23/23 [==============================] - 4s 171ms/step - loss: 4.3296e-04\n",
            "WARNING:tensorflow:Can save best model only with mean_absolute_error available, skipping.\n",
            "Epoch 39/200\n",
            "23/23 [==============================] - 4s 172ms/step - loss: 4.1837e-04\n",
            "WARNING:tensorflow:Can save best model only with mean_absolute_error available, skipping.\n",
            "Epoch 40/200\n",
            "23/23 [==============================] - 4s 170ms/step - loss: 4.8159e-04\n",
            "WARNING:tensorflow:Can save best model only with mean_absolute_error available, skipping.\n",
            "Epoch 41/200\n",
            "23/23 [==============================] - 4s 170ms/step - loss: 4.6917e-04\n",
            "WARNING:tensorflow:Can save best model only with mean_absolute_error available, skipping.\n",
            "Epoch 42/200\n",
            "23/23 [==============================] - 4s 170ms/step - loss: 4.6744e-04\n",
            "WARNING:tensorflow:Can save best model only with mean_absolute_error available, skipping.\n",
            "Epoch 43/200\n",
            "23/23 [==============================] - 4s 169ms/step - loss: 3.8490e-04\n",
            "WARNING:tensorflow:Can save best model only with mean_absolute_error available, skipping.\n",
            "Epoch 44/200\n",
            "23/23 [==============================] - 4s 171ms/step - loss: 3.9615e-04\n",
            "WARNING:tensorflow:Can save best model only with mean_absolute_error available, skipping.\n",
            "Epoch 45/200\n",
            "23/23 [==============================] - 4s 167ms/step - loss: 4.3364e-04\n",
            "WARNING:tensorflow:Can save best model only with mean_absolute_error available, skipping.\n",
            "Epoch 46/200\n",
            "23/23 [==============================] - 4s 173ms/step - loss: 4.2762e-04\n",
            "WARNING:tensorflow:Can save best model only with mean_absolute_error available, skipping.\n",
            "Epoch 47/200\n",
            "23/23 [==============================] - 4s 171ms/step - loss: 3.7925e-04\n",
            "WARNING:tensorflow:Can save best model only with mean_absolute_error available, skipping.\n",
            "Epoch 48/200\n",
            "23/23 [==============================] - 4s 172ms/step - loss: 3.6300e-04\n",
            "WARNING:tensorflow:Can save best model only with mean_absolute_error available, skipping.\n",
            "Epoch 49/200\n",
            "23/23 [==============================] - 4s 167ms/step - loss: 3.8132e-04\n",
            "WARNING:tensorflow:Can save best model only with mean_absolute_error available, skipping.\n",
            "Epoch 50/200\n",
            "23/23 [==============================] - 4s 168ms/step - loss: 3.6304e-04\n",
            "WARNING:tensorflow:Can save best model only with mean_absolute_error available, skipping.\n",
            "Epoch 51/200\n",
            "23/23 [==============================] - 4s 168ms/step - loss: 3.7302e-04\n",
            "WARNING:tensorflow:Can save best model only with mean_absolute_error available, skipping.\n",
            "Epoch 52/200\n",
            "23/23 [==============================] - 4s 170ms/step - loss: 3.7940e-04\n",
            "WARNING:tensorflow:Can save best model only with mean_absolute_error available, skipping.\n",
            "Epoch 53/200\n",
            "23/23 [==============================] - 4s 172ms/step - loss: 3.5458e-04\n",
            "WARNING:tensorflow:Can save best model only with mean_absolute_error available, skipping.\n",
            "Epoch 54/200\n",
            "23/23 [==============================] - 4s 173ms/step - loss: 3.3262e-04\n",
            "WARNING:tensorflow:Can save best model only with mean_absolute_error available, skipping.\n",
            "Epoch 55/200\n",
            "23/23 [==============================] - 4s 171ms/step - loss: 3.4164e-04\n",
            "WARNING:tensorflow:Can save best model only with mean_absolute_error available, skipping.\n",
            "Epoch 56/200\n",
            "23/23 [==============================] - 4s 170ms/step - loss: 3.6043e-04\n",
            "WARNING:tensorflow:Can save best model only with mean_absolute_error available, skipping.\n",
            "Epoch 57/200\n",
            "23/23 [==============================] - 4s 169ms/step - loss: 3.1501e-04\n",
            "WARNING:tensorflow:Can save best model only with mean_absolute_error available, skipping.\n",
            "Epoch 58/200\n",
            "23/23 [==============================] - 4s 168ms/step - loss: 3.3025e-04\n",
            "WARNING:tensorflow:Can save best model only with mean_absolute_error available, skipping.\n",
            "Epoch 59/200\n",
            "23/23 [==============================] - 4s 173ms/step - loss: 3.0693e-04\n",
            "WARNING:tensorflow:Can save best model only with mean_absolute_error available, skipping.\n",
            "Epoch 60/200\n",
            "23/23 [==============================] - 4s 173ms/step - loss: 3.0530e-04\n",
            "WARNING:tensorflow:Can save best model only with mean_absolute_error available, skipping.\n",
            "Epoch 61/200\n",
            "23/23 [==============================] - 4s 170ms/step - loss: 2.9752e-04\n",
            "WARNING:tensorflow:Can save best model only with mean_absolute_error available, skipping.\n",
            "Epoch 62/200\n",
            "23/23 [==============================] - 4s 168ms/step - loss: 2.8929e-04\n",
            "WARNING:tensorflow:Can save best model only with mean_absolute_error available, skipping.\n",
            "Epoch 63/200\n",
            "23/23 [==============================] - 4s 168ms/step - loss: 2.8608e-04\n",
            "WARNING:tensorflow:Can save best model only with mean_absolute_error available, skipping.\n",
            "Epoch 64/200\n",
            "23/23 [==============================] - 4s 168ms/step - loss: 2.8853e-04\n",
            "WARNING:tensorflow:Can save best model only with mean_absolute_error available, skipping.\n",
            "Epoch 65/200\n",
            "23/23 [==============================] - 4s 169ms/step - loss: 2.7685e-04\n",
            "WARNING:tensorflow:Can save best model only with mean_absolute_error available, skipping.\n",
            "Epoch 66/200\n",
            "23/23 [==============================] - 4s 170ms/step - loss: 2.8745e-04\n",
            "WARNING:tensorflow:Can save best model only with mean_absolute_error available, skipping.\n",
            "Epoch 67/200\n",
            "23/23 [==============================] - 4s 172ms/step - loss: 2.7977e-04\n",
            "WARNING:tensorflow:Can save best model only with mean_absolute_error available, skipping.\n",
            "Epoch 68/200\n",
            "23/23 [==============================] - 4s 170ms/step - loss: 2.9068e-04\n",
            "WARNING:tensorflow:Can save best model only with mean_absolute_error available, skipping.\n",
            "Epoch 69/200\n",
            "23/23 [==============================] - 4s 171ms/step - loss: 2.7459e-04\n",
            "WARNING:tensorflow:Can save best model only with mean_absolute_error available, skipping.\n",
            "Epoch 70/200\n",
            "23/23 [==============================] - 4s 170ms/step - loss: 2.9495e-04\n",
            "WARNING:tensorflow:Can save best model only with mean_absolute_error available, skipping.\n",
            "Epoch 71/200\n",
            "23/23 [==============================] - 4s 170ms/step - loss: 3.2478e-04\n",
            "WARNING:tensorflow:Can save best model only with mean_absolute_error available, skipping.\n",
            "Epoch 72/200\n",
            "23/23 [==============================] - 4s 171ms/step - loss: 3.0397e-04\n",
            "WARNING:tensorflow:Can save best model only with mean_absolute_error available, skipping.\n",
            "Epoch 73/200\n",
            "23/23 [==============================] - 4s 170ms/step - loss: 2.5370e-04\n",
            "WARNING:tensorflow:Can save best model only with mean_absolute_error available, skipping.\n",
            "Epoch 74/200\n",
            "23/23 [==============================] - 4s 171ms/step - loss: 2.5342e-04\n",
            "WARNING:tensorflow:Can save best model only with mean_absolute_error available, skipping.\n",
            "Epoch 75/200\n",
            "23/23 [==============================] - 4s 170ms/step - loss: 2.4143e-04\n",
            "WARNING:tensorflow:Can save best model only with mean_absolute_error available, skipping.\n",
            "Epoch 76/200\n",
            "23/23 [==============================] - 4s 172ms/step - loss: 2.3623e-04\n",
            "WARNING:tensorflow:Can save best model only with mean_absolute_error available, skipping.\n",
            "Epoch 77/200\n",
            "23/23 [==============================] - 4s 170ms/step - loss: 2.5027e-04\n",
            "WARNING:tensorflow:Can save best model only with mean_absolute_error available, skipping.\n",
            "Epoch 78/200\n",
            "23/23 [==============================] - 4s 171ms/step - loss: 2.3566e-04\n",
            "WARNING:tensorflow:Can save best model only with mean_absolute_error available, skipping.\n",
            "Epoch 79/200\n",
            "23/23 [==============================] - 4s 170ms/step - loss: 2.3431e-04\n",
            "WARNING:tensorflow:Can save best model only with mean_absolute_error available, skipping.\n",
            "Epoch 80/200\n",
            "23/23 [==============================] - 4s 171ms/step - loss: 2.3441e-04\n",
            "WARNING:tensorflow:Can save best model only with mean_absolute_error available, skipping.\n",
            "Epoch 81/200\n",
            "23/23 [==============================] - 4s 173ms/step - loss: 2.2664e-04\n",
            "WARNING:tensorflow:Can save best model only with mean_absolute_error available, skipping.\n",
            "Epoch 82/200\n",
            "23/23 [==============================] - 4s 172ms/step - loss: 2.2487e-04\n",
            "WARNING:tensorflow:Can save best model only with mean_absolute_error available, skipping.\n",
            "Epoch 83/200\n",
            "23/23 [==============================] - 4s 172ms/step - loss: 2.6708e-04\n",
            "WARNING:tensorflow:Can save best model only with mean_absolute_error available, skipping.\n",
            "Epoch 84/200\n",
            "23/23 [==============================] - 4s 169ms/step - loss: 2.8601e-04\n",
            "WARNING:tensorflow:Can save best model only with mean_absolute_error available, skipping.\n",
            "Epoch 85/200\n",
            "23/23 [==============================] - 4s 171ms/step - loss: 2.3884e-04\n",
            "WARNING:tensorflow:Can save best model only with mean_absolute_error available, skipping.\n",
            "Epoch 86/200\n",
            "23/23 [==============================] - 4s 170ms/step - loss: 2.4775e-04\n",
            "WARNING:tensorflow:Can save best model only with mean_absolute_error available, skipping.\n",
            "Epoch 87/200\n",
            "23/23 [==============================] - 4s 170ms/step - loss: 2.1465e-04\n",
            "WARNING:tensorflow:Can save best model only with mean_absolute_error available, skipping.\n",
            "Epoch 88/200\n",
            "23/23 [==============================] - 4s 173ms/step - loss: 2.2272e-04\n",
            "WARNING:tensorflow:Can save best model only with mean_absolute_error available, skipping.\n",
            "Epoch 89/200\n",
            "23/23 [==============================] - 4s 169ms/step - loss: 2.2170e-04\n",
            "WARNING:tensorflow:Can save best model only with mean_absolute_error available, skipping.\n",
            "Epoch 90/200\n",
            "23/23 [==============================] - 4s 171ms/step - loss: 2.0342e-04\n",
            "WARNING:tensorflow:Can save best model only with mean_absolute_error available, skipping.\n",
            "Epoch 91/200\n",
            "23/23 [==============================] - 4s 170ms/step - loss: 2.0482e-04\n",
            "WARNING:tensorflow:Can save best model only with mean_absolute_error available, skipping.\n",
            "Epoch 92/200\n",
            "23/23 [==============================] - 4s 173ms/step - loss: 2.0885e-04\n",
            "WARNING:tensorflow:Can save best model only with mean_absolute_error available, skipping.\n",
            "Epoch 93/200\n",
            "23/23 [==============================] - 4s 172ms/step - loss: 2.0311e-04\n",
            "WARNING:tensorflow:Can save best model only with mean_absolute_error available, skipping.\n",
            "Epoch 94/200\n",
            "23/23 [==============================] - 4s 169ms/step - loss: 2.0692e-04\n",
            "WARNING:tensorflow:Can save best model only with mean_absolute_error available, skipping.\n",
            "Epoch 95/200\n",
            "23/23 [==============================] - 4s 170ms/step - loss: 2.1359e-04\n",
            "WARNING:tensorflow:Can save best model only with mean_absolute_error available, skipping.\n",
            "Epoch 96/200\n",
            "23/23 [==============================] - 4s 171ms/step - loss: 2.1375e-04\n",
            "WARNING:tensorflow:Can save best model only with mean_absolute_error available, skipping.\n",
            "Epoch 97/200\n",
            "23/23 [==============================] - 4s 174ms/step - loss: 2.1335e-04\n",
            "WARNING:tensorflow:Can save best model only with mean_absolute_error available, skipping.\n",
            "Epoch 98/200\n",
            "23/23 [==============================] - 4s 172ms/step - loss: 2.1054e-04\n",
            "WARNING:tensorflow:Can save best model only with mean_absolute_error available, skipping.\n",
            "Epoch 99/200\n",
            "23/23 [==============================] - 4s 169ms/step - loss: 2.2485e-04\n",
            "WARNING:tensorflow:Can save best model only with mean_absolute_error available, skipping.\n",
            "Epoch 100/200\n",
            "23/23 [==============================] - 4s 169ms/step - loss: 2.0136e-04\n",
            "WARNING:tensorflow:Can save best model only with mean_absolute_error available, skipping.\n",
            "Epoch 101/200\n",
            "23/23 [==============================] - 4s 171ms/step - loss: 2.1614e-04\n",
            "WARNING:tensorflow:Can save best model only with mean_absolute_error available, skipping.\n",
            "Epoch 102/200\n",
            "23/23 [==============================] - 4s 173ms/step - loss: 2.0614e-04\n",
            "WARNING:tensorflow:Can save best model only with mean_absolute_error available, skipping.\n",
            "Epoch 103/200\n",
            "23/23 [==============================] - 4s 171ms/step - loss: 2.2651e-04\n",
            "WARNING:tensorflow:Can save best model only with mean_absolute_error available, skipping.\n",
            "Epoch 104/200\n",
            "23/23 [==============================] - 4s 171ms/step - loss: 2.2064e-04\n",
            "WARNING:tensorflow:Can save best model only with mean_absolute_error available, skipping.\n",
            "Epoch 105/200\n",
            "23/23 [==============================] - 4s 172ms/step - loss: 2.0633e-04\n",
            "WARNING:tensorflow:Can save best model only with mean_absolute_error available, skipping.\n",
            "Epoch 106/200\n",
            "23/23 [==============================] - 4s 169ms/step - loss: 2.1220e-04\n",
            "WARNING:tensorflow:Can save best model only with mean_absolute_error available, skipping.\n",
            "Epoch 107/200\n",
            "23/23 [==============================] - 4s 169ms/step - loss: 2.0932e-04\n",
            "WARNING:tensorflow:Can save best model only with mean_absolute_error available, skipping.\n",
            "Epoch 108/200\n",
            "23/23 [==============================] - 4s 172ms/step - loss: 1.8796e-04\n",
            "WARNING:tensorflow:Can save best model only with mean_absolute_error available, skipping.\n",
            "Epoch 109/200\n",
            "23/23 [==============================] - 4s 173ms/step - loss: 2.0355e-04\n",
            "WARNING:tensorflow:Can save best model only with mean_absolute_error available, skipping.\n",
            "Epoch 110/200\n",
            "23/23 [==============================] - 4s 172ms/step - loss: 1.8868e-04\n",
            "WARNING:tensorflow:Can save best model only with mean_absolute_error available, skipping.\n",
            "Epoch 111/200\n",
            "23/23 [==============================] - 4s 170ms/step - loss: 1.9955e-04\n",
            "WARNING:tensorflow:Can save best model only with mean_absolute_error available, skipping.\n",
            "Epoch 112/200\n",
            "23/23 [==============================] - 4s 170ms/step - loss: 2.1097e-04\n",
            "WARNING:tensorflow:Can save best model only with mean_absolute_error available, skipping.\n",
            "Epoch 113/200\n",
            "23/23 [==============================] - 4s 170ms/step - loss: 1.8922e-04\n",
            "WARNING:tensorflow:Can save best model only with mean_absolute_error available, skipping.\n",
            "Epoch 114/200\n",
            "23/23 [==============================] - 4s 172ms/step - loss: 2.0291e-04\n",
            "WARNING:tensorflow:Can save best model only with mean_absolute_error available, skipping.\n",
            "Epoch 115/200\n",
            "23/23 [==============================] - 4s 172ms/step - loss: 1.9238e-04\n",
            "WARNING:tensorflow:Can save best model only with mean_absolute_error available, skipping.\n",
            "Epoch 116/200\n",
            "23/23 [==============================] - 4s 172ms/step - loss: 2.8754e-04\n",
            "WARNING:tensorflow:Can save best model only with mean_absolute_error available, skipping.\n",
            "Epoch 117/200\n",
            "23/23 [==============================] - 4s 174ms/step - loss: 1.9093e-04\n",
            "WARNING:tensorflow:Can save best model only with mean_absolute_error available, skipping.\n",
            "Epoch 118/200\n",
            "23/23 [==============================] - 4s 174ms/step - loss: 2.0862e-04\n",
            "WARNING:tensorflow:Can save best model only with mean_absolute_error available, skipping.\n",
            "Epoch 119/200\n",
            "23/23 [==============================] - 4s 169ms/step - loss: 1.9590e-04\n",
            "WARNING:tensorflow:Can save best model only with mean_absolute_error available, skipping.\n",
            "Epoch 120/200\n",
            "23/23 [==============================] - 4s 172ms/step - loss: 1.9343e-04\n",
            "WARNING:tensorflow:Can save best model only with mean_absolute_error available, skipping.\n",
            "Epoch 121/200\n",
            "23/23 [==============================] - 4s 168ms/step - loss: 2.1788e-04\n",
            "WARNING:tensorflow:Can save best model only with mean_absolute_error available, skipping.\n",
            "Epoch 122/200\n",
            "23/23 [==============================] - 4s 170ms/step - loss: 2.0323e-04\n",
            "WARNING:tensorflow:Can save best model only with mean_absolute_error available, skipping.\n",
            "Epoch 123/200\n",
            "23/23 [==============================] - 4s 173ms/step - loss: 1.8624e-04\n",
            "WARNING:tensorflow:Can save best model only with mean_absolute_error available, skipping.\n",
            "Epoch 124/200\n",
            "23/23 [==============================] - 4s 173ms/step - loss: 2.4873e-04\n",
            "WARNING:tensorflow:Can save best model only with mean_absolute_error available, skipping.\n",
            "Epoch 125/200\n",
            "23/23 [==============================] - 4s 170ms/step - loss: 2.3104e-04\n",
            "WARNING:tensorflow:Can save best model only with mean_absolute_error available, skipping.\n",
            "Epoch 126/200\n",
            "23/23 [==============================] - 4s 169ms/step - loss: 2.0358e-04\n",
            "WARNING:tensorflow:Can save best model only with mean_absolute_error available, skipping.\n",
            "Epoch 127/200\n",
            "23/23 [==============================] - 4s 170ms/step - loss: 1.9389e-04\n",
            "WARNING:tensorflow:Can save best model only with mean_absolute_error available, skipping.\n",
            "Epoch 128/200\n",
            "23/23 [==============================] - 4s 170ms/step - loss: 1.8842e-04\n",
            "WARNING:tensorflow:Can save best model only with mean_absolute_error available, skipping.\n",
            "Epoch 129/200\n",
            "23/23 [==============================] - 4s 174ms/step - loss: 1.8009e-04\n",
            "WARNING:tensorflow:Can save best model only with mean_absolute_error available, skipping.\n",
            "Epoch 130/200\n",
            "23/23 [==============================] - 4s 174ms/step - loss: 1.9098e-04\n",
            "WARNING:tensorflow:Can save best model only with mean_absolute_error available, skipping.\n",
            "Epoch 131/200\n",
            "23/23 [==============================] - 4s 171ms/step - loss: 2.1705e-04\n",
            "WARNING:tensorflow:Can save best model only with mean_absolute_error available, skipping.\n",
            "Epoch 132/200\n",
            "23/23 [==============================] - 4s 172ms/step - loss: 2.3372e-04\n",
            "WARNING:tensorflow:Can save best model only with mean_absolute_error available, skipping.\n",
            "Epoch 133/200\n",
            "23/23 [==============================] - 4s 170ms/step - loss: 1.8062e-04\n",
            "WARNING:tensorflow:Can save best model only with mean_absolute_error available, skipping.\n",
            "Epoch 134/200\n",
            "23/23 [==============================] - 4s 171ms/step - loss: 1.8494e-04\n",
            "WARNING:tensorflow:Can save best model only with mean_absolute_error available, skipping.\n",
            "Epoch 135/200\n",
            "23/23 [==============================] - 4s 170ms/step - loss: 1.8280e-04\n",
            "WARNING:tensorflow:Can save best model only with mean_absolute_error available, skipping.\n",
            "Epoch 136/200\n",
            "23/23 [==============================] - 4s 170ms/step - loss: 1.9408e-04\n",
            "WARNING:tensorflow:Can save best model only with mean_absolute_error available, skipping.\n",
            "Epoch 137/200\n",
            "23/23 [==============================] - 4s 172ms/step - loss: 1.8803e-04\n",
            "WARNING:tensorflow:Can save best model only with mean_absolute_error available, skipping.\n",
            "Epoch 138/200\n",
            "23/23 [==============================] - 4s 175ms/step - loss: 2.0773e-04\n",
            "WARNING:tensorflow:Can save best model only with mean_absolute_error available, skipping.\n",
            "Epoch 139/200\n",
            "23/23 [==============================] - 4s 169ms/step - loss: 2.1314e-04\n",
            "WARNING:tensorflow:Can save best model only with mean_absolute_error available, skipping.\n",
            "Epoch 140/200\n",
            "23/23 [==============================] - 4s 169ms/step - loss: 1.9353e-04\n",
            "WARNING:tensorflow:Can save best model only with mean_absolute_error available, skipping.\n",
            "Epoch 141/200\n",
            "23/23 [==============================] - 4s 175ms/step - loss: 1.8840e-04\n",
            "WARNING:tensorflow:Can save best model only with mean_absolute_error available, skipping.\n",
            "Epoch 142/200\n",
            "23/23 [==============================] - 4s 169ms/step - loss: 2.1077e-04\n",
            "WARNING:tensorflow:Can save best model only with mean_absolute_error available, skipping.\n",
            "Epoch 143/200\n",
            "23/23 [==============================] - 4s 174ms/step - loss: 1.8480e-04\n",
            "WARNING:tensorflow:Can save best model only with mean_absolute_error available, skipping.\n",
            "Epoch 144/200\n",
            "23/23 [==============================] - 4s 173ms/step - loss: 1.9735e-04\n",
            "WARNING:tensorflow:Can save best model only with mean_absolute_error available, skipping.\n",
            "Epoch 145/200\n",
            "23/23 [==============================] - 4s 171ms/step - loss: 1.9522e-04\n",
            "WARNING:tensorflow:Can save best model only with mean_absolute_error available, skipping.\n",
            "Epoch 146/200\n",
            "23/23 [==============================] - 4s 172ms/step - loss: 2.4879e-04\n",
            "WARNING:tensorflow:Can save best model only with mean_absolute_error available, skipping.\n",
            "Epoch 147/200\n",
            "23/23 [==============================] - 4s 173ms/step - loss: 1.9809e-04\n",
            "WARNING:tensorflow:Can save best model only with mean_absolute_error available, skipping.\n",
            "Epoch 148/200\n",
            "23/23 [==============================] - 4s 173ms/step - loss: 2.0929e-04\n",
            "WARNING:tensorflow:Can save best model only with mean_absolute_error available, skipping.\n",
            "Epoch 149/200\n",
            "23/23 [==============================] - 4s 171ms/step - loss: 1.8519e-04\n",
            "WARNING:tensorflow:Can save best model only with mean_absolute_error available, skipping.\n",
            "Epoch 150/200\n",
            "23/23 [==============================] - 4s 176ms/step - loss: 1.9077e-04\n",
            "WARNING:tensorflow:Can save best model only with mean_absolute_error available, skipping.\n",
            "Epoch 151/200\n",
            "23/23 [==============================] - 4s 174ms/step - loss: 1.8504e-04\n",
            "WARNING:tensorflow:Can save best model only with mean_absolute_error available, skipping.\n",
            "Epoch 152/200\n",
            "23/23 [==============================] - 4s 172ms/step - loss: 1.8122e-04\n",
            "WARNING:tensorflow:Can save best model only with mean_absolute_error available, skipping.\n",
            "Epoch 153/200\n",
            "23/23 [==============================] - 4s 173ms/step - loss: 1.9492e-04\n",
            "WARNING:tensorflow:Can save best model only with mean_absolute_error available, skipping.\n",
            "Epoch 154/200\n",
            "23/23 [==============================] - 4s 173ms/step - loss: 1.8241e-04\n",
            "WARNING:tensorflow:Can save best model only with mean_absolute_error available, skipping.\n",
            "Epoch 155/200\n",
            "23/23 [==============================] - 4s 167ms/step - loss: 1.7141e-04\n",
            "WARNING:tensorflow:Can save best model only with mean_absolute_error available, skipping.\n",
            "Epoch 156/200\n",
            "23/23 [==============================] - 4s 168ms/step - loss: 1.7980e-04\n",
            "WARNING:tensorflow:Can save best model only with mean_absolute_error available, skipping.\n",
            "Epoch 157/200\n",
            "23/23 [==============================] - 4s 166ms/step - loss: 1.8362e-04\n",
            "WARNING:tensorflow:Can save best model only with mean_absolute_error available, skipping.\n",
            "Epoch 158/200\n",
            "23/23 [==============================] - 4s 168ms/step - loss: 1.8214e-04\n",
            "WARNING:tensorflow:Can save best model only with mean_absolute_error available, skipping.\n",
            "Epoch 159/200\n",
            "23/23 [==============================] - 4s 166ms/step - loss: 1.6984e-04\n",
            "WARNING:tensorflow:Can save best model only with mean_absolute_error available, skipping.\n",
            "Epoch 160/200\n",
            "23/23 [==============================] - 4s 167ms/step - loss: 2.0163e-04\n",
            "WARNING:tensorflow:Can save best model only with mean_absolute_error available, skipping.\n",
            "Epoch 161/200\n",
            "23/23 [==============================] - 4s 169ms/step - loss: 2.1125e-04\n",
            "WARNING:tensorflow:Can save best model only with mean_absolute_error available, skipping.\n",
            "Epoch 162/200\n",
            "23/23 [==============================] - 4s 167ms/step - loss: 2.4673e-04\n",
            "WARNING:tensorflow:Can save best model only with mean_absolute_error available, skipping.\n",
            "Epoch 163/200\n",
            "23/23 [==============================] - 4s 171ms/step - loss: 1.8483e-04\n",
            "WARNING:tensorflow:Can save best model only with mean_absolute_error available, skipping.\n",
            "Epoch 164/200\n",
            "23/23 [==============================] - 4s 172ms/step - loss: 2.1896e-04\n",
            "WARNING:tensorflow:Can save best model only with mean_absolute_error available, skipping.\n",
            "Epoch 165/200\n",
            "23/23 [==============================] - 4s 174ms/step - loss: 2.3003e-04\n",
            "WARNING:tensorflow:Can save best model only with mean_absolute_error available, skipping.\n",
            "Epoch 166/200\n",
            "23/23 [==============================] - 4s 169ms/step - loss: 2.1720e-04\n",
            "WARNING:tensorflow:Can save best model only with mean_absolute_error available, skipping.\n",
            "Epoch 167/200\n",
            "23/23 [==============================] - 4s 172ms/step - loss: 1.8703e-04\n",
            "WARNING:tensorflow:Can save best model only with mean_absolute_error available, skipping.\n",
            "Epoch 168/200\n",
            "23/23 [==============================] - 4s 171ms/step - loss: 1.7786e-04\n",
            "WARNING:tensorflow:Can save best model only with mean_absolute_error available, skipping.\n",
            "Epoch 169/200\n",
            "23/23 [==============================] - 4s 171ms/step - loss: 1.7347e-04\n",
            "WARNING:tensorflow:Can save best model only with mean_absolute_error available, skipping.\n",
            "Epoch 170/200\n",
            "23/23 [==============================] - 4s 171ms/step - loss: 1.7493e-04\n",
            "WARNING:tensorflow:Can save best model only with mean_absolute_error available, skipping.\n",
            "Epoch 171/200\n",
            "23/23 [==============================] - 4s 171ms/step - loss: 1.8280e-04\n",
            "WARNING:tensorflow:Can save best model only with mean_absolute_error available, skipping.\n",
            "Epoch 172/200\n",
            "23/23 [==============================] - 4s 171ms/step - loss: 2.5856e-04\n",
            "WARNING:tensorflow:Can save best model only with mean_absolute_error available, skipping.\n",
            "Epoch 173/200\n",
            "23/23 [==============================] - 4s 171ms/step - loss: 2.6553e-04\n",
            "WARNING:tensorflow:Can save best model only with mean_absolute_error available, skipping.\n",
            "Epoch 174/200\n",
            "23/23 [==============================] - 4s 171ms/step - loss: 1.8178e-04\n",
            "WARNING:tensorflow:Can save best model only with mean_absolute_error available, skipping.\n",
            "Epoch 175/200\n",
            "23/23 [==============================] - 4s 173ms/step - loss: 1.7825e-04\n",
            "WARNING:tensorflow:Can save best model only with mean_absolute_error available, skipping.\n",
            "Epoch 176/200\n",
            "23/23 [==============================] - 4s 174ms/step - loss: 1.7214e-04\n",
            "WARNING:tensorflow:Can save best model only with mean_absolute_error available, skipping.\n",
            "Epoch 177/200\n",
            "23/23 [==============================] - 4s 175ms/step - loss: 1.8362e-04\n",
            "WARNING:tensorflow:Can save best model only with mean_absolute_error available, skipping.\n",
            "Epoch 178/200\n",
            "23/23 [==============================] - 4s 176ms/step - loss: 1.9664e-04\n",
            "WARNING:tensorflow:Can save best model only with mean_absolute_error available, skipping.\n",
            "Epoch 179/200\n",
            "23/23 [==============================] - 4s 175ms/step - loss: 1.8936e-04\n",
            "WARNING:tensorflow:Can save best model only with mean_absolute_error available, skipping.\n",
            "Epoch 180/200\n",
            "23/23 [==============================] - 4s 173ms/step - loss: 1.9306e-04\n",
            "WARNING:tensorflow:Can save best model only with mean_absolute_error available, skipping.\n",
            "Epoch 181/200\n",
            "23/23 [==============================] - 4s 174ms/step - loss: 2.2404e-04\n",
            "WARNING:tensorflow:Can save best model only with mean_absolute_error available, skipping.\n",
            "Epoch 182/200\n",
            "23/23 [==============================] - 4s 174ms/step - loss: 1.8793e-04\n",
            "WARNING:tensorflow:Can save best model only with mean_absolute_error available, skipping.\n",
            "Epoch 183/200\n",
            "23/23 [==============================] - 4s 173ms/step - loss: 1.9660e-04\n",
            "WARNING:tensorflow:Can save best model only with mean_absolute_error available, skipping.\n",
            "Epoch 184/200\n",
            "23/23 [==============================] - 4s 176ms/step - loss: 1.7324e-04\n",
            "WARNING:tensorflow:Can save best model only with mean_absolute_error available, skipping.\n",
            "Epoch 185/200\n",
            "23/23 [==============================] - 4s 175ms/step - loss: 1.8782e-04\n",
            "WARNING:tensorflow:Can save best model only with mean_absolute_error available, skipping.\n",
            "Epoch 186/200\n",
            "23/23 [==============================] - 4s 178ms/step - loss: 1.8489e-04\n",
            "WARNING:tensorflow:Can save best model only with mean_absolute_error available, skipping.\n",
            "Epoch 187/200\n",
            "23/23 [==============================] - 4s 178ms/step - loss: 1.7390e-04\n",
            "WARNING:tensorflow:Can save best model only with mean_absolute_error available, skipping.\n",
            "Epoch 188/200\n",
            "23/23 [==============================] - 4s 179ms/step - loss: 1.7907e-04\n",
            "WARNING:tensorflow:Can save best model only with mean_absolute_error available, skipping.\n",
            "Epoch 189/200\n",
            "23/23 [==============================] - 4s 178ms/step - loss: 1.7926e-04\n",
            "WARNING:tensorflow:Can save best model only with mean_absolute_error available, skipping.\n",
            "Epoch 190/200\n",
            "23/23 [==============================] - 4s 177ms/step - loss: 1.9428e-04\n",
            "WARNING:tensorflow:Can save best model only with mean_absolute_error available, skipping.\n",
            "Epoch 191/200\n",
            "23/23 [==============================] - 4s 177ms/step - loss: 1.8447e-04\n",
            "WARNING:tensorflow:Can save best model only with mean_absolute_error available, skipping.\n",
            "Epoch 192/200\n",
            "23/23 [==============================] - 4s 179ms/step - loss: 1.9124e-04\n",
            "WARNING:tensorflow:Can save best model only with mean_absolute_error available, skipping.\n",
            "Epoch 193/200\n",
            "23/23 [==============================] - 4s 179ms/step - loss: 2.2698e-04\n",
            "WARNING:tensorflow:Can save best model only with mean_absolute_error available, skipping.\n",
            "Epoch 194/200\n",
            "23/23 [==============================] - 4s 181ms/step - loss: 2.4588e-04\n",
            "WARNING:tensorflow:Can save best model only with mean_absolute_error available, skipping.\n",
            "Epoch 195/200\n",
            "23/23 [==============================] - 4s 179ms/step - loss: 1.8540e-04\n",
            "WARNING:tensorflow:Can save best model only with mean_absolute_error available, skipping.\n",
            "Epoch 196/200\n",
            "23/23 [==============================] - 4s 179ms/step - loss: 1.7826e-04\n",
            "WARNING:tensorflow:Can save best model only with mean_absolute_error available, skipping.\n",
            "Epoch 197/200\n",
            "23/23 [==============================] - 4s 178ms/step - loss: 1.9745e-04\n",
            "WARNING:tensorflow:Can save best model only with mean_absolute_error available, skipping.\n",
            "Epoch 198/200\n",
            "23/23 [==============================] - 4s 177ms/step - loss: 2.1500e-04\n",
            "WARNING:tensorflow:Can save best model only with mean_absolute_error available, skipping.\n",
            "Epoch 199/200\n",
            "23/23 [==============================] - 4s 181ms/step - loss: 1.9667e-04\n",
            "WARNING:tensorflow:Can save best model only with mean_absolute_error available, skipping.\n",
            "Epoch 200/200\n",
            "23/23 [==============================] - 4s 177ms/step - loss: 1.9485e-04\n",
            "WARNING:tensorflow:Can save best model only with mean_absolute_error available, skipping.\n"
          ],
          "name": "stdout"
        },
        {
          "output_type": "execute_result",
          "data": {
            "text/plain": [
              "<tensorflow.python.keras.callbacks.History at 0x7fd6217b4b10>"
            ]
          },
          "metadata": {
            "tags": []
          },
          "execution_count": 35
        }
      ]
    },
    {
      "cell_type": "code",
      "metadata": {
        "colab": {
          "base_uri": "https://localhost:8080/"
        },
        "id": "NQnQLNJ_XDyD",
        "outputId": "75647286-8362-4944-a988-d85f8cc6d36a"
      },
      "source": [
        "# preparing the test data (validation) and predicting with existing model for the validation\n",
        "\n",
        "test_data = scaled_data[training_data_len-d: , : ]\n",
        "#Create the x_test and y_test data sets\n",
        "x_test = []\n",
        "y_test =  dataset[training_data_len : , : ] #Get all of the rows from index 449 to the rest and all of the columns (in this case it's only column 'Close'), so 2003 - 1603 = 400 rows of data\n",
        "for i in range(d,len(test_data)):\n",
        "    x_test.append(test_data[i-d:i,0])\n",
        "\n",
        "#Convert x_test to a numpy array \n",
        "x_test = np.array(x_test)\n",
        "\n",
        "#Reshape the data into the shape accepted by the LSTM\n",
        "x_test = np.reshape(x_test, (x_test.shape[0],x_test.shape[1],1))\n",
        "\n",
        "\n",
        "#Getting the models predicted price values\n",
        "predictions = model.predict(x_test) \n",
        "predictions = scaler.inverse_transform(predictions)#Undo scaling\n",
        "\n",
        "#Calculate/Get the value of RMSE\n",
        "rmse=np.sqrt(np.mean(((predictions- y_test)**2)))\n",
        "rmse"
      ],
      "execution_count": 37,
      "outputs": [
        {
          "output_type": "execute_result",
          "data": {
            "text/plain": [
              "59.13708476341949"
            ]
          },
          "metadata": {
            "tags": []
          },
          "execution_count": 37
        }
      ]
    },
    {
      "cell_type": "code",
      "metadata": {
        "colab": {
          "base_uri": "https://localhost:8080/",
          "height": 641
        },
        "id": "PCpo02F8X-UR",
        "outputId": "85648b48-e1dd-429a-cb4f-62ed23815148"
      },
      "source": [
        "#Plot/Create the data for the graph\n",
        "train = data[:training_data_len]\n",
        "valid = data[training_data_len:]\n",
        "valid['Predictions'] = predictions\n",
        "#Visualize the data\n",
        "plt.figure(figsize=(16,8))\n",
        "plt.title('Model')\n",
        "plt.xlabel('Date', fontsize=18)\n",
        "plt.ylabel('Close Price USD ($)', fontsize=18)\n",
        "plt.plot(train['Close'])\n",
        "plt.plot(valid[['Close', 'Predictions']])\n",
        "plt.legend(['Train', 'Val', 'Predictions'], loc='lower right')\n",
        "plt.show()"
      ],
      "execution_count": 38,
      "outputs": [
        {
          "output_type": "stream",
          "text": [
            "/usr/local/lib/python3.7/dist-packages/ipykernel_launcher.py:4: SettingWithCopyWarning: \n",
            "A value is trying to be set on a copy of a slice from a DataFrame.\n",
            "Try using .loc[row_indexer,col_indexer] = value instead\n",
            "\n",
            "See the caveats in the documentation: https://pandas.pydata.org/pandas-docs/stable/user_guide/indexing.html#returning-a-view-versus-a-copy\n",
            "  after removing the cwd from sys.path.\n"
          ],
          "name": "stderr"
        },
        {
          "output_type": "display_data",
          "data": {
            "image/png": "[encoded data removed]",
            "text/plain": [
              "<Figure size 1152x576 with 1 Axes>"
            ]
          },
          "metadata": {
            "tags": [],
            "needs_background": "light"
          }
        }
      ]
    },
    {
      "cell_type": "code",
      "metadata": {
        "id": "O0hPxcMfXH6L"
      },
      "source": [
        ""
      ],
      "execution_count": null,
      "outputs": []
    }
  ]
}